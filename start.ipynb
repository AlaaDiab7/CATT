from google.colab import drive
drive.mount('/content/gdrive')

!tar -xzvf "/content/gdrive/My Drive/Colab Notebooks/datasets.tar.gz" -C "/content/gdrive/My Drive/Colab Notebooks/"
!rm -rf "/content/gdrive/My Drive/Colab Notebooks/datasets.csv"
!bash "/content/gdrive/My Drive/Colab Notebooks/batch.sh"
